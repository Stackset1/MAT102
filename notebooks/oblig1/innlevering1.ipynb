{
  "cells": [
    {
      "cell_type": "markdown",
      "metadata": {
        "id": "view-in-github",
        "colab_type": "text"
      },
      "source": [
        "<a href=\"https://colab.research.google.com/github/Stackset1/MAT102/blob/main/notebooks/oblig1/innlevering1.ipynb\" target=\"_parent\"><img src=\"https://colab.research.google.com/assets/colab-badge.svg\" alt=\"Open In Colab\"/></a>"
      ]
    },
    {
      "cell_type": "markdown",
      "id": "d3853c7f-0d2a-4b96-835c-a51b16eb825f",
      "metadata": {
        "id": "d3853c7f-0d2a-4b96-835c-a51b16eb825f"
      },
      "source": [
        "# Første obligatoriske innlevering i MAT 102, Vår 2025\n",
        "\n",
        "I denne oppgaven skal du fylle inn kode i denne notebook. Les oppgaveteksten grundig. Når du er ferdig går du opp i menyen og velger \"kjør alt\" og eksporterer notebooken med alt kjørt i rekkefølge fra top til bunn som en ipynb fil. Denne filen laster du opp på mitt uib. Hvis du foretrekker å bruke Spyder eller VSCode er det helt i orden. Da må du kopiere kodeblokkene, kjøre dem der og laste både kode og bilder av plottene du produserer opp på mitt uib."
      ]
    },
    {
      "cell_type": "code",
      "execution_count": 2,
      "id": "bff7e797-b2d0-48c8-a4c0-862d13af624d",
      "metadata": {
        "id": "bff7e797-b2d0-48c8-a4c0-862d13af624d"
      },
      "outputs": [],
      "source": [
        "import numpy as np\n",
        "import unicodedata\n",
        "from IPython.display import Markdown as md\n",
        "import matplotlib.pyplot as plt"
      ]
    },
    {
      "cell_type": "markdown",
      "id": "5f3b1471-0c22-4539-9de5-fd572692f9ed",
      "metadata": {
        "id": "5f3b1471-0c22-4539-9de5-fd572692f9ed"
      },
      "source": [
        "## Generering av oppgave\n",
        "\n",
        "Denne oppgaven blir generert ut i fra navnet ditt. Fyll inn det fulle navnet ditt i stedet for der det står \"Mitt Navn\" i feltet under og velg \"kjør alt\" (\"run all\") i collab menyen for å genere din personlige versjon oppgaven."
      ]
    },
    {
      "cell_type": "code",
      "execution_count": 3,
      "id": "01753a34-39a1-40e4-84ac-e09e5b7b85e1",
      "metadata": {
        "id": "01753a34-39a1-40e4-84ac-e09e5b7b85e1"
      },
      "outputs": [],
      "source": [
        "navn = \"Thomas Claussen Stakset\""
      ]
    },
    {
      "cell_type": "code",
      "execution_count": 4,
      "id": "97f96d96-240e-483d-af5c-58d6605869e3",
      "metadata": {
        "id": "97f96d96-240e-483d-af5c-58d6605869e3"
      },
      "outputs": [],
      "source": [
        "bytenavn = unicodedata.normalize(\"NFKD\", navn).encode(\"ascii\", \"ignore\")\n",
        "seed = int.from_bytes(bytenavn)"
      ]
    },
    {
      "cell_type": "markdown",
      "id": "0a3d1126-01d5-48c6-a742-87692b8dd510",
      "metadata": {
        "id": "0a3d1126-01d5-48c6-a742-87692b8dd510"
      },
      "source": [
        "## Oppgave 1\n",
        "\n",
        "Kodesnutten herunder definerer en funksjon $w(x)$ som skal undersøkes i denne oppgaven."
      ]
    },
    {
      "cell_type": "code",
      "execution_count": 5,
      "id": "dcfdbfe7-42ac-404a-bc58-3f1432997396",
      "metadata": {
        "id": "dcfdbfe7-42ac-404a-bc58-3f1432997396"
      },
      "outputs": [],
      "source": [
        "def w(x):\n",
        "    res = 0\n",
        "    for i in range(3):\n",
        "        res = res + np.cos((7**i)*np.pi*x)/(2**i)\n",
        "    return res"
      ]
    },
    {
      "cell_type": "markdown",
      "id": "9f033ee8-76a0-4316-b41e-bc7e539d3975",
      "metadata": {
        "id": "9f033ee8-76a0-4316-b41e-bc7e539d3975"
      },
      "source": [
        "#### I cellen under genereres din personlige versjon av denne oppgaven.\n",
        "Koden under genererer din personlige variant av denne oppgaven. Løs den genererte oppgaven som vises under den. Koden kan du ignorere."
      ]
    },
    {
      "cell_type": "code",
      "execution_count": null,
      "id": "c1980330-4663-4808-8fa7-6042735cbb3e",
      "metadata": {
        "id": "c1980330-4663-4808-8fa7-6042735cbb3e",
        "outputId": "2150bfc0-b8f6-4bc1-a63f-0b37223a5d05"
      },
      "outputs": [
        {
          "data": {
            "text/markdown": [
              "\n",
              "1. Plot funksjonen $w(x)$ på intervallet $[0.1, 0.4]$ i en liste `x` av punkter. Plottet skal ha en passende tittel, vanlig aksekors og passende xlabel og ylabel. Varier antallet av punkter i listen `x` og velg et antall der alle detaljer til grafen til funksjoen $w(x)$ vises.\n",
              "1. Plot den numerisk beregnede deriverte funksjonen til $w(x)$. Gjør plottet fint som i spørsmålet over. Hva kan du si om funksjonen $w(x)$ utifra hva du ser?\n",
              "1. Lag en python funksjon `wderivert(x)` som beregner den eksakte deriverte til funksjonen $w(x)$. Plot den eksakte deriverte og den numeriske derivete fra forrige delspørsmål i samme koordinatsystem. Lag både et plot med så få verdier i listen `x` at de to grafene er forskjellige og et plot der de to grafene er nesten like.\n"
            ],
            "text/plain": [
              "<IPython.core.display.Markdown object>"
            ]
          },
          "execution_count": 5,
          "metadata": {},
          "output_type": "execute_result"
        }
      ],
      "source": [
        "rng = np.random.default_rng(seed)\n",
        "md(\n",
        "f'''\n",
        "1. Plot funksjonen w(x) på intervallet $[{-((int(100 * rng.random()) % 4) -1)/10}, {(1 + int(100 * rng.random()) % 4)/10}]ienliste‘x‘avpunkter.Plottetskalhaenpassendetittel,vanligaksekorsogpassendexlabelogylabel.Varierantalletavpunkterilisten‘x‘ogvelgetantallderalledetaljertilgrafentilfunksjoenw(x)$ vises.\n",
        "1. Plot den numerisk beregnede deriverte funksjonen til w(x). Gjør plottet fint som i spørsmålet over. Hva kan du si om funksjonen w(x) utifra hva du ser?\n",
        "1. Lag en python funksjon `wderivert(x)` som beregner den eksakte deriverte til funksjonen w(x). Plot den eksakte deriverte og den numeriske derivete fra forrige delspørsmål i samme koordinatsystem. Lag både et plot med så få verdier i listen `x` at de to grafene er forskjellige og et plot der de to grafene er nesten like.\n",
        "''')\n"
      ]
    },
    {
      "cell_type": "code",
      "source": [
        "# Oppgave 1\n",
        "\n",
        "x = np.linspace(0.1, 0.4)\n",
        "plt.title('w(x)')\n",
        "plt.xlabel('x')\n",
        "plt.ylabel('y')\n",
        "plt.plot(w(x))\n",
        "\n",
        "\n",
        "# Oppgave 2\n",
        "\n",
        "plt.plot(np.gradient(w(x)))\n",
        "\n",
        "# Oppgave 3\n",
        "\n",
        "\n",
        "\n",
        "\n",
        "\n",
        "\n"
      ],
      "metadata": {
        "id": "hBzvRraLqA4v",
        "outputId": "dbaae6f6-77a9-440b-bdfe-d5e8b67fa87b",
        "colab": {
          "base_uri": "https://localhost:8080/",
          "height": 489
        }
      },
      "id": "hBzvRraLqA4v",
      "execution_count": 9,
      "outputs": [
        {
          "output_type": "execute_result",
          "data": {
            "text/plain": [
              "[<matplotlib.lines.Line2D at 0x7d3b1c239650>]"
            ]
          },
          "metadata": {},
          "execution_count": 9
        },
        {
          "output_type": "display_data",
          "data": {
            "text/plain": [
              "<Figure size 640x480 with 1 Axes>"
            ],
            "image/png": "[encoded data removed]"
          },
          "metadata": {}
        }
      ]
    },
    {
      "cell_type": "markdown",
      "id": "2ced065b-cb86-4c15-a56a-1d2b18eee0ca",
      "metadata": {
        "id": "2ced065b-cb86-4c15-a56a-1d2b18eee0ca"
      },
      "source": [
        "## Oppgave 2\n",
        "\n",
        "I denne oppgaven skal vi bruke numerisk integrasjon.\n",
        "Vi skal bruke Simpsons regel, som tilnærmer en funksjone som en serie av andregradsfunksjoner som går gjennom endepunktene og midtpunktet på delintervaller. På figuren vises Simpsons regel for en sinusfunksjon."
      ]
    },
    {
      "cell_type": "markdown",
      "id": "828f12d9-ab33-4b26-8f88-389c469b83e2",
      "metadata": {
        "id": "828f12d9-ab33-4b26-8f88-389c469b83e2"
      },
      "source": [
        "![Simpson](https://github.com/mbr085/V25MAT102/blob/main/notebooks/oblig1/Simpsonsrule2.gif?raw=1)"
      ]
    },
    {
      "cell_type": "markdown",
      "id": "b0bf056c-9346-4f11-bc63-80dce7f2a26f",
      "metadata": {
        "id": "b0bf056c-9346-4f11-bc63-80dce7f2a26f"
      },
      "source": [
        "Du kan lese mer om Simpson regelen (Simpson's rule på engelsk) [her](https://en.wikipedia.org/wiki/Simpson%27s_rule). Den norske Wikipedia-artikkelen har også noen tips til hvordan metoden kan implementeres, og kan leses [her](https://no.wikipedia.org/wiki/Simpson-integrasjon).\n",
        "\n",
        "#### I cellen under genereres din personlige versjon av denne oppgaven."
      ]
    },
    {
      "cell_type": "code",
      "execution_count": null,
      "id": "bec578f7-dc85-44d0-91a9-5b4c7c8794a9",
      "metadata": {
        "id": "bec578f7-dc85-44d0-91a9-5b4c7c8794a9",
        "outputId": "31238bbf-f972-43e9-a0d7-227adc36b610"
      },
      "outputs": [
        {
          "data": {
            "text/markdown": [
              "\n",
              "1. Del intervallet [2 , 6]  i 2 like lange delintervaller. La `y_0` være funksjonsverdien i det venstre endepunktet, la `y_1` være funksjonsverdien i midtpunktet og la `y_2` være funksjonsverdien i det høyre endepunktet av intervallet. Fullfør python funksjonen `simpson_bit` under slik at den bruker Simpsons regel til å regne ut integralet til $f(x) = 130 \\sin(3x - \\pi/2) + 250$ på det angitte intervallet. Skriv også kommentarer i koden. (Husk at du kan bruke alle verktøy du har til rådighet.)\n",
              "1. Gjenta punkt 1, men bruk 6, 10, og 100 delintervaller. Du kan bruke koden under hvis du vil. Husk kommentarer i koden der du beskriver hva den gjør. Hva skjer med verdien på integralet? Kan du gjette hva det ekte integralet er?\n",
              "1. Bruk Simpsons regel på $g(x) = x^2 - 2x - 16$ på det samme intervallet. Hva finner du ut når du prøver forskjellig antall delintervaller? Kan Simpsons formel ta oddetall delintervaller? Kan du forklare dette?"
            ],
            "text/plain": [
              "<IPython.core.display.Markdown object>"
            ]
          },
          "execution_count": 6,
          "metadata": {},
          "output_type": "execute_result"
        }
      ],
      "source": [
        "rng = np.random.default_rng(seed + 1)\n",
        "md(\n",
        "f'''\n",
        "1. Del intervallet [{-(int(100 * rng.random()) % 2) + 2} , {(int(100 * rng.random()) % 4) + 4}]  i 2 like lange delintervaller. La `y_0` være funksjonsverdien i det venstre endepunktet, la `y_1` være funksjonsverdien i midtpunktet og la `y_2` være funksjonsverdien i det høyre endepunktet av intervallet. Fullfør python funksjonen `simpson_bit` under slik at den bruker Simpsons regel til å regne ut integralet til $f(x) = 130 \\sin(3x - \\pi/2) + 250$ på det angitte intervallet. Skriv også kommentarer i koden. (Husk at du kan bruke alle verktøy du har til rådighet.)\n",
        "1. Gjenta punkt 1, men bruk 6, 10, og 100 delintervaller. Du kan bruke koden under hvis du vil. Husk kommentarer i koden der du beskriver hva den gjør. Hva skjer med verdien på integralet? Kan du gjette hva det ekte integralet er?\n",
        "1. Bruk Simpsons regel på g(x)=x2−2x−16 på det samme intervallet. Hva finner du ut når du prøver forskjellig antall delintervaller? Kan Simpsons formel ta oddetall delintervaller? Kan du forklare dette?''')"
      ]
    },
    {
      "cell_type": "code",
      "source": [
        "# Oppgave 1\n",
        "\n",
        "def f(x):\n",
        "  return 130 * np.sin(3*x - (np.pi/2)) + 250\n",
        "\n",
        "delta_x = 6-2 / 100\n",
        "\n",
        "y_0 = f(2)\n",
        "y_1 = f(2+6/2)\n",
        "y_2 = f(6)\n",
        "\n",
        "print(simpson_bit(y_0, y_1, y_2, delta_x))\n",
        "\n",
        "# Oppgave 2\n",
        "\n",
        "# Verdien på integralet øker jo større delintervaller\n",
        "\n",
        "# Oppgave 3\n",
        "\n",
        "def g(x):\n",
        "  return x**2 - 2*x - 16\n",
        "\n",
        "delta_x = 6-2 / 7\n",
        "\n",
        "y_0 = g(2)\n",
        "y_1 = g(2+6/2)\n",
        "y_2 = g(6)\n",
        "\n",
        "print(simpson_bit(y_0, y_1, y_2, delta_x))\n",
        "\n",
        "\n",
        "\n"
      ],
      "metadata": {
        "id": "CL_0_m1nruW1",
        "outputId": "889d5ff0-8f59-49df-cb0f-be948dd99236",
        "colab": {
          "base_uri": "https://localhost:8080/"
        }
      },
      "id": "CL_0_m1nruW1",
      "execution_count": 28,
      "outputs": [
        {
          "output_type": "stream",
          "name": "stdout",
          "text": [
            "3357.5196479982837\n",
            "-22.857142857142858\n"
          ]
        }
      ]
    },
    {
      "cell_type": "code",
      "execution_count": 13,
      "id": "f9aff302-50b1-4a85-964a-02084055d93d",
      "metadata": {
        "id": "f9aff302-50b1-4a85-964a-02084055d93d"
      },
      "outputs": [],
      "source": [
        "def simpson_bit(y_0, y_1, y_2, delta_x):\n",
        "    return delta_x/3 * (y_0 + 4*y_1 + y_2)"
      ]
    },
    {
      "cell_type": "code",
      "execution_count": null,
      "id": "29adaaf2-2389-41ed-88f0-8bd4c4a65717",
      "metadata": {
        "id": "29adaaf2-2389-41ed-88f0-8bd4c4a65717"
      },
      "outputs": [],
      "source": [
        "def simpson(y, delta_x):\n",
        "    if len(y) % 2 == 0:\n",
        "        return 'y må bestå av et odde antall tallverdier'\n",
        "    res = 0\n",
        "    for i in range(((len(y) - 1) // 2)):\n",
        "        y_0 = y[2*i]\n",
        "        y_1 = y[2*i + 1]\n",
        "        y_2 = y[2*i + 2]\n",
        "        res = res + simpson_bit(y_0, y_1, y_2, delta_x)\n",
        "    return res"
      ]
    }
  ],
  "metadata": {
    "kernelspec": {
      "display_name": "Python 3 (ipykernel)",
      "language": "python",
      "name": "python3"
    },
    "language_info": {
      "codemirror_mode": {
        "name": "ipython",
        "version": 3
      },
      "file_extension": ".py",
      "mimetype": "text/x-python",
      "name": "python",
      "nbconvert_exporter": "python",
      "pygments_lexer": "ipython3",
      "version": "3.12.8"
    },
    "colab": {
      "provenance": [],
      "include_colab_link": true
    }
  },
  "nbformat": 4,
  "nbformat_minor": 5
}